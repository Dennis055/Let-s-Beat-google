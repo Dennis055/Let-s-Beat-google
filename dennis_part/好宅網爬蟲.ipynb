{
 "cells": [
  {
   "cell_type": "code",
   "execution_count": 25,
   "metadata": {},
   "outputs": [],
   "source": [
    "import requests\n",
    "from bs4 import BeautifulSoup\n",
    "import pandas as pd\n",
    "import os"
   ]
  },
  {
   "cell_type": "code",
   "execution_count": 34,
   "metadata": {},
   "outputs": [],
   "source": [
    "with open('好宅網data'+'.txt','w') as f:\n",
    "    for i in range(1,5):\n",
    "        r = requests.get('http://www.chrb.com.tw/tenement.php?&pages=' + str(i))\n",
    "        content = r.text\n",
    "        soup = BeautifulSoup(content,'lxml')    #設定文件物件               #將字串寫入文件中\n",
    "            divs = soup.findAll(class_ = \"list-h\")\n",
    "            for div in divs:\n",
    "                info =div.get_text()\n",
    "                info = info.replace('\\n' , '')\n",
    "                info += \"\\n\"\n",
    "                f.write(info)  "
   ]
  }
 ],
 "metadata": {
  "kernelspec": {
   "display_name": "Python 3",
   "language": "python",
   "name": "python3"
  },
  "language_info": {
   "codemirror_mode": {
    "name": "ipython",
    "version": 3
   },
   "file_extension": ".py",
   "mimetype": "text/x-python",
   "name": "python",
   "nbconvert_exporter": "python",
   "pygments_lexer": "ipython3",
   "version": "3.6.5"
  }
 },
 "nbformat": 4,
 "nbformat_minor": 2
}
